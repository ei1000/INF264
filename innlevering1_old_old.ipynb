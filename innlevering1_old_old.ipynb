{
 "cells": [
  {
   "cell_type": "markdown",
   "id": "9eff2ec1-0bad-4074-829a-3945c4e3c61d",
   "metadata": {},
   "source": [
    "### Importing modules"
   ]
  },
  {
   "cell_type": "code",
   "execution_count": 3,
   "id": "ce77f734-cae6-4ec2-aace-df325a9cd059",
   "metadata": {},
   "outputs": [],
   "source": [
    "import numpy as np\n",
    "import sklearn\n",
    "from math import log2\n"
   ]
  },
  {
   "cell_type": "markdown",
   "id": "45b3c957-8259-42d2-9d48-b2979142b52a",
   "metadata": {},
   "source": [
    "Creating the sub functions, so that the main function is more readable."
   ]
  },
  {
   "cell_type": "code",
   "execution_count": 13,
   "id": "ce7f977c-f999-4813-bb38-526f8a55532d",
   "metadata": {},
   "outputs": [],
   "source": [
    "def count_labels(node):\n",
    "    total_count = 0\n",
    "    data_points = {}\n",
    "    for point in node:\n",
    "        if point not in data_points:\n",
    "            data_points[point] = 1\n",
    "        else:\n",
    "            data_points[point] +=1\n",
    "        total_count +=1\n",
    "    return data_points, total_count"
   ]
  },
  {
   "cell_type": "code",
   "execution_count": 14,
   "id": "5667a951-0319-44aa-b1c7-d99d8fe2c552",
   "metadata": {},
   "outputs": [],
   "source": [
    "def most_label(labels):\n",
    "    count_labels(labels)\n",
    "    highest_label = count_labels[0]\n",
    "    for label in labels:\n",
    "        if label[1] > highest_label:\n",
    "            highest_label = label\n",
    "\n",
    "    return highest_label[0]"
   ]
  },
  {
   "cell_type": "code",
   "execution_count": 15,
   "id": "0a7db722-3352-4c46-880f-11b53209be56",
   "metadata": {},
   "outputs": [],
   "source": [
    "def one_label(data_points):\n",
    "    labels = [data_points[0]]\n",
    "    for d_point in data_points:\n",
    "        if d_point not in labels:\n",
    "            return True\n",
    "    return False\n",
    "        "
   ]
  },
  {
   "cell_type": "code",
   "execution_count": 23,
   "id": "10f9e0a6-5066-4032-a0f1-88ee5278d822",
   "metadata": {},
   "outputs": [],
   "source": [
    "def calc_prob(node):\n",
    "    #Counting the labels\n",
    "    data_points, total_count = count_labels(node)\n",
    "    \n",
    "    #Using the countings to compute the different possibilities.\n",
    "    probs = []\n",
    "    for point, counts in data_points.items():\n",
    "        probs.append([point, counts/total_count])\n",
    "\n",
    "    #converting to np array so the array can be sliced. \n",
    "    probs = np.array(probs)\n",
    "    \n",
    "    return probs"
   ]
  },
  {
   "cell_type": "code",
   "execution_count": 24,
   "id": "6c741139-1b52-42a2-9075-1cb99fac778e",
   "metadata": {},
   "outputs": [
    {
     "data": {
      "text/plain": [
       "array([[1. , 0.9],\n",
       "       [2. , 0.1]])"
      ]
     },
     "execution_count": 24,
     "metadata": {},
     "output_type": "execute_result"
    }
   ],
   "source": [
    "calc_prob([1,1,1,1,2,1,1,1,1,1])"
   ]
  },
  {
   "cell_type": "code",
   "execution_count": 27,
   "id": "f2d7717b-bf47-4864-a995-1e1fa6309766",
   "metadata": {},
   "outputs": [],
   "source": [
    "def calc_impurities(node):\n",
    "    probs = calc_prob(node)\n",
    "\n",
    "    entropy = 0\n",
    "    gini = 0\n",
    "    misclass_rate = 0\n",
    "    for prob in probs:\n",
    "        entropy += -((prob[1]*log2(prob[1])))\n",
    "        gini += prob[1]*(1-prob[1])\n",
    "    misclass_rate = 1 - max(probs[:,1])\n",
    "\n",
    "    return entropy, gini, misclass_rate"
   ]
  },
  {
   "cell_type": "code",
   "execution_count": 28,
   "id": "be7e4d99-c793-466f-9e1f-eb2250bf004c",
   "metadata": {},
   "outputs": [
    {
     "data": {
      "text/plain": [
       "(0.4689955935892812, 0.18, 0.09999999999999998)"
      ]
     },
     "execution_count": 28,
     "metadata": {},
     "output_type": "execute_result"
    }
   ],
   "source": [
    "calc_impurities([1,1,1,1,2,1,1,1,1,1])"
   ]
  },
  {
   "cell_type": "code",
   "execution_count": 18,
   "id": "0055921f-9f9a-4e37-99ff-7e9bc1d1ac3d",
   "metadata": {},
   "outputs": [],
   "source": [
    "def calc_con_entropy(node, y, x):\n",
    "    probs = calc_prob(node)\n",
    "    cond_entropy = 0\n",
    "    for prob in probs:\n",
    "        #calc y given x\n",
    "        y_giv_x = \n",
    "        cond_entropy += "
   ]
  },
  {
   "cell_type": "code",
   "execution_count": 19,
   "id": "9d61ec9f-4456-4065-a321-f96345ec7dde",
   "metadata": {},
   "outputs": [],
   "source": [
    "def calc_ig(node):\n",
    "    return calc_entropy(node) - calc_con_entropy(node)"
   ]
  },
  {
   "cell_type": "code",
   "execution_count": 20,
   "id": "df977e73-f67a-4542-a51c-256e7719cd31",
   "metadata": {},
   "outputs": [],
   "source": [
    "def dec_tree(root):\n",
    "    if one_labels:\n",
    "        return root\n",
    "    "
   ]
  },
  {
   "cell_type": "code",
   "execution_count": 23,
   "id": "6e966096-bfe2-4c16-8355-fd4b55761c18",
   "metadata": {},
   "outputs": [],
   "source": [
    "split_point = np.arange(8)"
   ]
  },
  {
   "cell_type": "code",
   "execution_count": 24,
   "id": "552ef177-5e30-46e4-a1ff-1f13f627e670",
   "metadata": {},
   "outputs": [
    {
     "data": {
      "text/plain": [
       "array([0, 1, 2, 3, 4, 5, 6, 7])"
      ]
     },
     "execution_count": 24,
     "metadata": {},
     "output_type": "execute_result"
    }
   ],
   "source": [
    "split_point"
   ]
  },
  {
   "cell_type": "code",
   "execution_count": 25,
   "id": "551172a4-d40b-4fb2-a131-e33a824298a3",
   "metadata": {},
   "outputs": [],
   "source": [
    "left, right = np.split(split_point, [7])"
   ]
  },
  {
   "cell_type": "code",
   "execution_count": 26,
   "id": "18b7d742-a7b3-4f4e-93c1-1a0198be4b39",
   "metadata": {},
   "outputs": [
    {
     "data": {
      "text/plain": [
       "array([0, 1, 2, 3, 4, 5, 6])"
      ]
     },
     "execution_count": 26,
     "metadata": {},
     "output_type": "execute_result"
    }
   ],
   "source": [
    "left"
   ]
  },
  {
   "cell_type": "code",
   "execution_count": 27,
   "id": "5d0e2e9e-e985-4fee-9e21-1815319efc5f",
   "metadata": {},
   "outputs": [
    {
     "data": {
      "text/plain": [
       "array([7])"
      ]
     },
     "execution_count": 27,
     "metadata": {},
     "output_type": "execute_result"
    }
   ],
   "source": [
    "right"
   ]
  },
  {
   "cell_type": "code",
   "execution_count": null,
   "id": "652a2ec9-afca-475d-8819-eec68cf61d20",
   "metadata": {},
   "outputs": [],
   "source": []
  }
 ],
 "metadata": {
  "kernelspec": {
   "display_name": "Python 3 (ipykernel)",
   "language": "python",
   "name": "python3"
  },
  "language_info": {
   "codemirror_mode": {
    "name": "ipython",
    "version": 3
   },
   "file_extension": ".py",
   "mimetype": "text/x-python",
   "name": "python",
   "nbconvert_exporter": "python",
   "pygments_lexer": "ipython3",
   "version": "3.10.12"
  }
 },
 "nbformat": 4,
 "nbformat_minor": 5
}
