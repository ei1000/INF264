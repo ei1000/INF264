{
 "cells": [
  {
   "cell_type": "code",
   "execution_count": 91,
   "id": "ce77f734-cae6-4ec2-aace-df325a9cd059",
   "metadata": {},
   "outputs": [],
   "source": [
    "import numpy as np\n",
    "import csv\n",
    "from sklearn import neighbors, datasets, model_selection, metrics, __version__\n",
    "from math import log2\n",
    "import pandas as pd\n",
    "import os"
   ]
  },
  {
   "cell_type": "markdown",
   "id": "45b3c957-8259-42d2-9d48-b2979142b52a",
   "metadata": {},
   "source": [
    "## Creating the the different functions.\n",
    "\n",
    "### starting with the tree class"
   ]
  },
  {
   "cell_type": "code",
   "execution_count": 92,
   "id": "8f606655-3fed-4eec-98a4-28c817bb71a0",
   "metadata": {},
   "outputs": [],
   "source": [
    "#Simple tree structure with maximum 2 children\n",
    "class Tree:\n",
    "    #Containing a value, either a lable or tuple with information about split. Then each child is a new tree object.\n",
    "    def __init__(self, value=None):\n",
    "        self.value = value\n",
    "        self.left = None\n",
    "        self.right = None\n",
    "        self.major_label = None\n",
    "        \n",
    "    "
   ]
  },
  {
   "cell_type": "markdown",
   "id": "aceb588e-5882-490a-8568-964ed07423cf",
   "metadata": {},
   "source": [
    "### Split labels\n",
    "Making a function to split a list of labels on its mean. The split function is too simple, because it would split it on the datapoint with the mean.\n",
    "I could sort the array, but I find it more simple and effective to retrieve the indexes instead and slice the points from the labels."
   ]
  },
  {
   "cell_type": "code",
   "execution_count": 93,
   "id": "20f245af-d101-4dba-9348-f1081e6ea2c7",
   "metadata": {},
   "outputs": [],
   "source": [
    "def split_label(feature, labels):\n",
    "    #Finding feature mean\n",
    "    feature_mean = np.nanmean(feature)\n",
    "    #Splitting the feature on the mean\n",
    "    left_labels = labels[np.nonzero(feature < feature_mean)]\n",
    "    right_labels = labels[np.nonzero(feature >= feature_mean)]\n",
    "    #np.nonzero function finds the index in an array with a condition. Here the conditions are based on the mean.\n",
    "    return left_labels, right_labels, feature_mean\n",
    "    "
   ]
  },
  {
   "cell_type": "markdown",
   "id": "50d8f850-8419-4bea-8ad3-845492dfd053",
   "metadata": {},
   "source": [
    "### Impurity and investigation score"
   ]
  },
  {
   "cell_type": "code",
   "execution_count": 300,
   "id": "af6fd92b-c37e-4ee3-882a-3879c8695669",
   "metadata": {},
   "outputs": [],
   "source": [
    "def impurity(arr, impurity_measure = 'entropy'):\n",
    "    #Starting sum\n",
    "    entropy = 0\n",
    "    gini = 0\n",
    "    #Finding the counts for each possible label. Eihter one or two labels. \n",
    "    labels, counts = np.unique(arr, return_counts=True)\n",
    "    #Calculating the entropy and gini for the array\n",
    "    for count in counts:\n",
    "        prob = count/len(arr)\n",
    "        entropy -= prob*log2(prob)\n",
    "        gini += prob*(1-prob)\n",
    "\n",
    "    if impurity_measure == 'entropy':\n",
    "        return entropy\n",
    "    elif impurity_measure == 'gini':\n",
    "        return gini"
   ]
  },
  {
   "cell_type": "code",
   "execution_count": 301,
   "id": "5f2b1d26-d624-4935-88c2-538d59b71ed1",
   "metadata": {},
   "outputs": [],
   "source": [
    "def cond_impurity(feature, labels, impurity_measure='entropy'):\n",
    "    #Getting the labels for the split\n",
    "    left_labels, right_labels, f_mean = split_label(feature, labels)\n",
    "    \n",
    "    #Finding the count of labels on each side\n",
    "    left_len = len(left_labels)/len(feature)\n",
    "    right_len = len(right_labels)/len(feature)\n",
    "\n",
    "    #Calculating the impurity measure for the feature and each split, and multiplying with the split ratio\n",
    "    impurity_left = impurity(left_labels, impurity_measure)*left_len\n",
    "    impurity_right = impurity(right_labels, impurity_measure)*right_len\n",
    "\n",
    "    #returning the conditional entropy\n",
    "    return impurity_left + impurity_right"
   ]
  },
  {
   "cell_type": "code",
   "execution_count": 302,
   "id": "1194033f-f4f4-4e0b-99da-b8e0ea693c4f",
   "metadata": {},
   "outputs": [],
   "source": [
    "def investigation_score(feature, labels, impurity_measure='entropy'):\n",
    "\n",
    "    #Getting the entropies\n",
    "    entropy_feature = impurity(labels, impurity_measure)\n",
    "    cond_entropy_feature = cond_impurity(feature, labels, impurity_measure)\n",
    "\n",
    "    #Returning the investigation score\n",
    "    return entropy_feature - cond_entropy_feature\n",
    "    "
   ]
  },
  {
   "cell_type": "markdown",
   "id": "953ee1c9-b929-455d-a2d6-74224314091f",
   "metadata": {},
   "source": [
    "### Finding the best feature to split on, by investigation score"
   ]
  },
  {
   "cell_type": "code",
   "execution_count": 303,
   "id": "1c8a4a07-63fd-408f-9237-df50026d30f1",
   "metadata": {},
   "outputs": [],
   "source": [
    "def find_best_feature(data, labels, impurity_measure = 'entropy'):\n",
    "    #Making a dictionary to store the feature key and the inv_score as value. \n",
    "    best_i = {}\n",
    "    #Iterating through each feature\n",
    "    for feature in range(data.shape[1]):\n",
    "        best_i[feature] = investigation_score(data[:, feature], labels, impurity_measure)\n",
    "\n",
    "    #Finding best feature with max function, where the key is the values. \n",
    "    #print(best_i.values())\n",
    "    #if max(best_i.values()) > 0:\n",
    "    best_feature_index = max(best_i, key= best_i.get)\n",
    "    return best_feature_index"
   ]
  },
  {
   "cell_type": "markdown",
   "id": "0ef99aa0-f964-4807-bf66-c9368154eeec",
   "metadata": {},
   "source": [
    "### Splitting the data and labels into subarrays\n",
    "I chose to return a triple containing the left side, right side and value for the node"
   ]
  },
  {
   "cell_type": "code",
   "execution_count": 304,
   "id": "61801dbf-9f79-4780-ab34-a3ae511f9018",
   "metadata": {},
   "outputs": [],
   "source": [
    "def split_data(data, labels, impurity_measure = 'entropy', feature_index='best', feature_mean='best'):\n",
    "    \n",
    "    #If we want to find best_feature or use a predetermined\n",
    "    if feature_index == 'best':\n",
    "        feature_index = find_best_feature(data, labels, impurity_measure)\n",
    "        best_feature_mean = 'best'\n",
    "\n",
    "    #Get the feature\n",
    "    best_feature = data[:, feature_index]\n",
    "\n",
    "    #Splitting the labels | Could have returned the labels in investigation_score to save compute, but this should be marginal.\n",
    "    left_labels, right_labels, best_feature_mean = split_label(best_feature, labels)  \n",
    "    \n",
    "    #Splitting the data based on the indexes of what points is lower or higher than mean, given specific feature\n",
    "    left_data = data[best_feature < best_feature_mean]\n",
    "    right_data = data[best_feature >= best_feature_mean]\n",
    "    \n",
    "    #Returning a 3-tuple consisting of the left side, the right side and information about the split (what feature, the mean)\n",
    "    #The latter will be stored in each branch when building the tree. \n",
    "    return (left_data, left_labels), (right_data, right_labels), (feature_index, best_feature_mean)\n",
    "    "
   ]
  },
  {
   "cell_type": "markdown",
   "id": "cf0cae93-4c02-41a4-86ec-b6b2629c5685",
   "metadata": {},
   "source": [
    "### Checking for identical features\n",
    "The approach is if there is only one unique value in every column, then the multi array has identical rows. "
   ]
  },
  {
   "cell_type": "code",
   "execution_count": 305,
   "id": "68c5f8f2-a3ee-4cb8-b950-e61c9a892610",
   "metadata": {},
   "outputs": [],
   "source": [
    "def identical_features(data, labels):\n",
    "    count = 0\n",
    "    for feature in range(data.shape[1]):\n",
    "        if len(np.unique(data[:,feature])) == 1:\n",
    "            count += 1\n",
    "    \n",
    "    if count == data.shape[1]:\n",
    "        uniques, counts = np.unique(labels, return_counts=True)\n",
    "        return uniques[np.argmax(counts)]"
   ]
  },
  {
   "cell_type": "markdown",
   "id": "411f482b-d36e-4c45-af7e-f9be017dabd4",
   "metadata": {},
   "source": [
    "## Implementing the ID3 function by using the prior built functions\n"
   ]
  },
  {
   "cell_type": "code",
   "execution_count": 306,
   "id": "61eb97a8-1a75-45bc-a0f3-3ed7c568316c",
   "metadata": {},
   "outputs": [],
   "source": [
    "def id3(data, labels, tree, impurity_measure = 'entropy'):\n",
    "    #Finding checking for identical features\n",
    "    identical = identical_features(data, labels)\n",
    "    \n",
    "    #If all data points have the same label:\n",
    "    if impurity(labels) == 0:\n",
    "        tree.value = labels[0]\n",
    "        return labels[0]\n",
    "\n",
    "    #Else if all data points have identical feature values\n",
    "    elif identical != None:\n",
    "        tree.value = identical\n",
    "        return\n",
    "\n",
    "\n",
    "    #Else\n",
    "    else:\n",
    "        #Extracting the information from the split\n",
    "        left, right, root = split_data(data, labels, impurity_measure)\n",
    "\n",
    "        if root != 0:\n",
    "            #Setting this root to indicate the split\n",
    "            tree.value = root\n",
    "\n",
    "            #Setting the majority label\n",
    "            lab, counts = np.unique(labels, return_counts=True)\n",
    "            maj_index = np.where(counts == max(counts))[0][0]\n",
    "            tree.majority_label = lab[maj_index]\n",
    "    \n",
    "            #Making left branch\n",
    "            new_left = Tree()\n",
    "            tree.left = new_left\n",
    "            id3(left[0], left[1], new_left, impurity_measure)\n",
    "    \n",
    "            #Making right branch\n",
    "            new_right = Tree()\n",
    "            tree.right = new_right \n",
    "            id3(right[0], right[1], new_right, impurity_measure)\n",
    "        \n",
    "        \n",
    "        \n",
    "    "
   ]
  },
  {
   "cell_type": "markdown",
   "id": "6ceb721d-f322-4d49-88ee-0907d4dc661e",
   "metadata": {},
   "source": [
    "## Creating some functions to inspect the tree"
   ]
  },
  {
   "cell_type": "code",
   "execution_count": 307,
   "id": "7b2b94a1-0c6a-44d6-b6f0-ed31e092fd9a",
   "metadata": {},
   "outputs": [],
   "source": [
    "def search_tree(tree,count=0):\n",
    "    if tree != None:\n",
    "        counts = count\n",
    "        counts += 1\n",
    "        print(tree.value)\n",
    "    \n",
    "        search_tree(tree.left,counts)\n",
    "        search_tree(tree.right,counts)"
   ]
  },
  {
   "cell_type": "code",
   "execution_count": 308,
   "id": "8408223a-20e0-4cf5-97c8-adbe5838010d",
   "metadata": {},
   "outputs": [],
   "source": [
    "def total_nodes(tree):\n",
    "    if tree == None:\n",
    "        return 0\n",
    "\n",
    "    l = total_nodes(tree.left)\n",
    "    r = total_nodes(tree.right)\n",
    "\n",
    "    return 1 + l + r\n",
    "    "
   ]
  },
  {
   "cell_type": "markdown",
   "id": "059cb26c-d81d-4a74-a66b-10c7a1935090",
   "metadata": {},
   "source": [
    "## Prediction and accuracy functions"
   ]
  },
  {
   "cell_type": "code",
   "execution_count": 309,
   "id": "31585334-147f-4159-a803-00a0041c0775",
   "metadata": {},
   "outputs": [],
   "source": [
    "def predict(data_point, tree):\n",
    "    if type(tree.value) == tuple:\n",
    "        feature, split_point = tree.value\n",
    "        if data_point[feature] < split_point:\n",
    "            return predict(data_point, tree.left)\n",
    "        else:\n",
    "            return predict(data_point, tree.right)\n",
    "    else:\n",
    "        return tree.value\n",
    "    #print(tree.value)\n",
    "    \n",
    "    "
   ]
  },
  {
   "cell_type": "code",
   "execution_count": 310,
   "id": "8021b256-a18f-48b2-ba30-a9170288fd6b",
   "metadata": {},
   "outputs": [],
   "source": [
    "def accuracy(data, labels, tree):\n",
    "    labels_len = len(labels)\n",
    "    if labels_len == 0:\n",
    "        return 0\n",
    "    count = 0\n",
    "    for counts, data_point in enumerate(data):\n",
    "        if predict(data_point, tree) == labels[counts]:\n",
    "            count += 1\n",
    "    return count/labels_len"
   ]
  },
  {
   "cell_type": "code",
   "execution_count": 311,
   "id": "620bb807-8adc-44bf-b06e-422ce1705769",
   "metadata": {},
   "outputs": [],
   "source": [
    "def predict_flat_label(data, labels, prediction=0):\n",
    "    labels_len = len(labels)\n",
    "    if labels_len == 0:\n",
    "        return 0\n",
    "    count = 0\n",
    "    for counts, data_points in enumerate(data):\n",
    "        if prediction == labels[counts]:\n",
    "            count += 1\n",
    "    return count/labels_len"
   ]
  },
  {
   "cell_type": "markdown",
   "id": "a3ef7317-4367-4478-ad61-7f8277c6625f",
   "metadata": {},
   "source": [
    "## Pruning algorithm\n",
    "In essence a Depth first search. Since I implemented the tree structure to have a left and right child, I dont have a child list. But it works the same since when using a for loop on a list of children, you start with the first one and its first one etc. So I'm doing left side first, then calling right side when the left is searched. Instead of for loop im just using running it recusively as long as the child is a tree object. Then on each child im calculating if the accuracy is higher with a lable instead of a split, and if so, the new value is a label.\n",
    "\n",
    "If there is an empty array, then I'm not changing its branch. This is because the pruning data does not have the same data points as the training data. But when you calculate the accuracy and predictions with labels, they are all 0%. So the pruning data is not really suitable to determine wheter this split is necesarry or not. I have done some observations with different seeds and on average the accuracy declines when pruning these empty arrays. Hence im leaving the branches untouched.  "
   ]
  },
  {
   "cell_type": "code",
   "execution_count": 312,
   "id": "fe8949d9-f022-4fa1-be44-71f2b4cfd408",
   "metadata": {},
   "outputs": [],
   "source": [
    "def prune(data, labels, tree, impurity_measure = 'entropy'):\n",
    "    #Just want to do the pruning on a node that is splitting, not on a label node.\n",
    "    if type(tree.value) == tuple:\n",
    "        feature, mean = tree.value\n",
    "\n",
    "        #Incase there are empty branches. If the the data and labels are empty, then there is no reason to split it, so the datapoints can stay as they were.\n",
    "        #Since the accuracy is 0 with given data, but also 0 for either 0 or 1, so it would be unfair to choose one, because there is not enough data in pruning, to make a good decision.\n",
    "        if len(labels) == 0:\n",
    "            return\n",
    "        else:\n",
    "            left, right, values = split_data(data, labels, impurity_measure, feature_index = feature)\n",
    "        \n",
    "        \n",
    "        \n",
    "        #If there is a left \n",
    "        if type(tree.left) == Tree:\n",
    "            prune(left[0], left[1], tree.left)\n",
    "        if type(tree.right) == Tree:\n",
    "            prune(right[0], right[1], tree.right)\n",
    "\n",
    "        #Accuracy of either splitting or giving hard label\n",
    "        for label in np.unique(labels):\n",
    "            if predict_flat_label(data, labels, prediction=tree.majority_label) > accuracy(data, labels, tree):\n",
    "                #print('true')\n",
    "                #print(tree.value, left[1], right[1], predict_flat_label(data, labels, prediction=label), accuracy(data, labels, tree))\n",
    "                tree.value = tree.majority_label\n",
    "                tree.left, tree.right = None, None\n",
    "                #print(tree.value)\n",
    "\n",
    "    "
   ]
  },
  {
   "cell_type": "markdown",
   "id": "f8765ca3-3a21-49f1-a2f0-68a3e7583f37",
   "metadata": {},
   "source": [
    "# The main learning algorithm"
   ]
  },
  {
   "cell_type": "code",
   "execution_count": 313,
   "id": "46abd623-47e2-4eac-9b2d-84f6b9df45c0",
   "metadata": {},
   "outputs": [],
   "source": [
    "#Using the id3 algorithm to return a decision tree.\n",
    "def learn(X, y, impurity_measure='entropy', pruning=\"false\", ratio=0.8):\n",
    "    #Making the root for the tree\n",
    "    tree = Tree()\n",
    "\n",
    "    #Checking whether the pruning is true\n",
    "    if pruning == 'True':\n",
    "        #Now we need to split the data\n",
    "        ratio = ratio\n",
    "        X_train, X_prune = np.split(X, [int(ratio*len(X))])\n",
    "        y_train, y_prune = np.split(y, [int(ratio*len(y))])\n",
    "\n",
    "        #Making the tree with training data\n",
    "        id3(X_train, y_train, tree, impurity_measure)\n",
    "        total_nodes(tree)\n",
    "\n",
    "        #Pruning the tree with the pruning data\n",
    "        prune(X_prune, y_prune, tree)\n",
    "        total_nodes(tree)\n",
    "\n",
    "        #Returning the pruned tree\n",
    "        return tree\n",
    "    \n",
    "    #Else if pruning is false | Just make the tree and return it.\n",
    "    else:\n",
    "        id3(X, y, tree, impurity_measure)\n",
    "        return tree"
   ]
  },
  {
   "cell_type": "markdown",
   "id": "90a41d14-ea49-40e8-a4b9-c1a5305851b2",
   "metadata": {},
   "source": [
    "### read csv to numpy\n",
    "Nice to have if we want to load more datasets"
   ]
  },
  {
   "cell_type": "code",
   "execution_count": 314,
   "id": "c9a9b874-9cc6-4e6e-b242-72ecbf8b54f2",
   "metadata": {},
   "outputs": [],
   "source": [
    "def cvs_numpy(name=''):\n",
    "    with open(name, 'r') as r:\n",
    "        reader = csv.reader(r)\n",
    "        data = list(reader)\n",
    "    \n",
    "    feature_names = data[0][:-1]\n",
    "    data_ar = np.array(data[1:], dtype=float)\n",
    "    targets = data_ar[:, -1]\n",
    "    data = data_ar[:, :-1]\n",
    "    return data, targets, feature_names"
   ]
  },
  {
   "cell_type": "markdown",
   "id": "2522610c-45c7-4a14-9db2-fa72d2606ae9",
   "metadata": {},
   "source": [
    "# Testing withthe wine dataset"
   ]
  },
  {
   "cell_type": "code",
   "execution_count": 240,
   "id": "48f03310-43a1-4880-88d5-1a6ce72b65e0",
   "metadata": {},
   "outputs": [],
   "source": [
    "data, labels, target_names = cvs_numpy('wine_dataset.csv')#\n",
    "seed = 521#332#333#521\n",
    "X_train, X_val_test, y_train, y_val_test = model_selection.train_test_split(data, labels, test_size=0.3, shuffle=True, random_state=seed)"
   ]
  },
  {
   "cell_type": "code",
   "execution_count": 241,
   "id": "2718a890-0210-40ae-973b-3418c26b2500",
   "metadata": {},
   "outputs": [
    {
     "data": {
      "text/plain": [
       "(array([[ 0.13,  1.6 ,  3.34,  0.59,  9.2 ],\n",
       "        [ 0.1 ,  2.8 ,  3.6 ,  0.66, 10.2 ],\n",
       "        [ 0.32,  1.9 ,  3.2 ,  0.55,  9.5 ],\n",
       "        ...,\n",
       "        [ 0.44,  1.6 ,  3.38,  0.86,  9.9 ],\n",
       "        [ 0.36,  4.5 ,  3.4 ,  0.57, 10.4 ],\n",
       "        [ 0.34,  6.4 ,  2.99,  0.4 , 10.8 ]]),\n",
       " array([1., 1., 1., ..., 1., 0., 0.]),\n",
       " ['citric acid', 'residual sugar', 'pH', 'sulphates', 'alcohol'])"
      ]
     },
     "execution_count": 241,
     "metadata": {},
     "output_type": "execute_result"
    }
   ],
   "source": [
    "data, labels, target_names"
   ]
  },
  {
   "cell_type": "code",
   "execution_count": 242,
   "id": "9ce9c04f-32e7-4f01-a07e-812d6967a4b5",
   "metadata": {},
   "outputs": [
    {
     "data": {
      "text/plain": [
       "1.0"
      ]
     },
     "execution_count": 242,
     "metadata": {},
     "output_type": "execute_result"
    }
   ],
   "source": [
    "tree = Tree()\n",
    "tree= learn(X_train, y_train, impurity_measure='entropy')\n",
    "accuracy(X_train, y_train, tree)"
   ]
  },
  {
   "cell_type": "code",
   "execution_count": 243,
   "id": "5b7dd259-0c09-495b-9dab-a54ce7a6467b",
   "metadata": {},
   "outputs": [],
   "source": [
    "tree = Tree()\n",
    "tree= learn(X_train, y_train, impurity_measure='gini', pruning=\"True\", ratio=0.8)"
   ]
  },
  {
   "cell_type": "code",
   "execution_count": 244,
   "id": "bdca0d5a-986e-4087-91df-dddde5c0329d",
   "metadata": {},
   "outputs": [
    {
     "data": {
      "text/plain": [
       "457"
      ]
     },
     "execution_count": 244,
     "metadata": {},
     "output_type": "execute_result"
    }
   ],
   "source": [
    "tree.left.left.value\n",
    "total_nodes(tree)\n"
   ]
  },
  {
   "cell_type": "code",
   "execution_count": 245,
   "id": "49d65284-b147-46eb-899f-5a0eea945b5b",
   "metadata": {},
   "outputs": [
    {
     "data": {
      "text/plain": [
       "0.9436997319034852"
      ]
     },
     "execution_count": 245,
     "metadata": {},
     "output_type": "execute_result"
    }
   ],
   "source": [
    "accuracy(X_train, y_train, tree)"
   ]
  },
  {
   "cell_type": "code",
   "execution_count": 246,
   "id": "9a64d2b9-ecc0-4ac0-9b1f-324e5f569b05",
   "metadata": {},
   "outputs": [
    {
     "data": {
      "text/plain": [
       "0.8875"
      ]
     },
     "execution_count": 246,
     "metadata": {},
     "output_type": "execute_result"
    }
   ],
   "source": [
    "accuracy(X_val_test, y_val_test, tree)\n"
   ]
  },
  {
   "cell_type": "code",
   "execution_count": 247,
   "id": "bacfe6e5-7ddd-4e6e-9049-d2235475dbca",
   "metadata": {},
   "outputs": [
    {
     "data": {
      "text/plain": [
       "(781, 0.8635416666666667)"
      ]
     },
     "execution_count": 247,
     "metadata": {},
     "output_type": "execute_result"
    }
   ],
   "source": [
    "tree_2 = Tree()\n",
    "tree_2 = learn(X_train, y_train, impurity_measure='gini')\n",
    "\n",
    "total_nodes(tree_2), accuracy(X_val_test, y_val_test, tree_2)"
   ]
  },
  {
   "cell_type": "code",
   "execution_count": 248,
   "id": "a8efe678-bc7f-4d13-b791-67f5741f707e",
   "metadata": {},
   "outputs": [],
   "source": [
    "#prune(X_val_test, y_val_test, tree_2)"
   ]
  },
  {
   "cell_type": "code",
   "execution_count": 249,
   "id": "b98562f6-24d6-4fa8-94c5-eb7c7d04fba8",
   "metadata": {},
   "outputs": [
    {
     "data": {
      "text/plain": [
       "781"
      ]
     },
     "execution_count": 249,
     "metadata": {},
     "output_type": "execute_result"
    }
   ],
   "source": [
    "total_nodes(tree_2)"
   ]
  },
  {
   "cell_type": "code",
   "execution_count": 250,
   "id": "b2faab63-d517-4297-b9fb-6959dd40500f",
   "metadata": {},
   "outputs": [
    {
     "data": {
      "text/plain": [
       "((0.8875, 457), (0.8635416666666667, 781))"
      ]
     },
     "execution_count": 250,
     "metadata": {},
     "output_type": "execute_result"
    }
   ],
   "source": [
    "(accuracy(X_val_test, y_val_test, tree), total_nodes(tree)), (accuracy(X_val_test, y_val_test, tree_2), total_nodes(tree_2))"
   ]
  },
  {
   "cell_type": "code",
   "execution_count": 251,
   "id": "24878026-ad7b-45ff-89e6-36fa4a1743a2",
   "metadata": {},
   "outputs": [],
   "source": [
    "#predict_flat_label(X_val_test, y_val_test, 1)"
   ]
  },
  {
   "cell_type": "code",
   "execution_count": 252,
   "id": "507bf71e-3f2f-4809-8f88-c26495cb55bc",
   "metadata": {},
   "outputs": [
    {
     "name": "stdout",
     "output_type": "stream",
     "text": [
      "Prune free accuracy: 0.8635416666666667\n",
      "Testing ratio: 0.1, with impurity_measure: gini, accuracy: 0.868 | Difference in accuracy: 0.00417\n",
      "Testing ratio: 0.2, with impurity_measure: gini, accuracy: 0.855 | Difference in accuracy: -0.00833\n",
      "Testing ratio: 0.3, with impurity_measure: gini, accuracy: 0.872 | Difference in accuracy: 0.00833\n",
      "Testing ratio: 0.4, with impurity_measure: gini, accuracy: 0.865 | Difference in accuracy: 0.00104\n",
      "Testing ratio: 0.5, with impurity_measure: gini, accuracy: 0.869 | Difference in accuracy: 0.00521\n",
      "Testing ratio: 0.6, with impurity_measure: gini, accuracy: 0.876 | Difference in accuracy: 0.01250\n",
      "Testing ratio: 0.7, with impurity_measure: gini, accuracy: 0.883 | Difference in accuracy: 0.01979\n",
      "Testing ratio: 0.8, with impurity_measure: gini, accuracy: 0.887 | Difference in accuracy: 0.02396\n",
      "Testing ratio: 0.9, with impurity_measure: gini, accuracy: 0.884 | Difference in accuracy: 0.02083\n"
     ]
    }
   ],
   "source": [
    "tree_prunefree = Tree()\n",
    "tree_prunefree = learn(X_train, y_train, impurity_measure='gini')\n",
    "accuracy_prunefree = accuracy(X_val_test, y_val_test, tree_prunefree)\n",
    "print(f'Prune free accuracy: {accuracy_prunefree}')\n",
    "for x in range(1,10):\n",
    "    tree = Tree()\n",
    "    tree = learn(X_train, y_train, impurity_measure='gini', pruning='True', ratio=x/10)\n",
    "    accuracy_tree = accuracy(X_val_test, y_val_test, tree)\n",
    "    print(f'Testing ratio: {x/10}, with impurity_measure: gini, accuracy: {accuracy_tree:.3f} | Difference in accuracy: {accuracy_tree- accuracy_prunefree:.5f}')"
   ]
  },
  {
   "cell_type": "code",
   "execution_count": 253,
   "id": "89cf1b58-5b65-4975-a044-9053517f3241",
   "metadata": {},
   "outputs": [
    {
     "name": "stdout",
     "output_type": "stream",
     "text": [
      "(1, 4.56196623634558)\n",
      "(3, 0.6071335740072202)\n",
      "(3, 0.4989447236180904)\n",
      "(0, 0.28191489361702127)\n",
      "(0, 0.16731250000000003)\n",
      "(3, 0.436875)\n",
      "(1, 1.7357142857142855)\n",
      "(1, 1.3038461538461539)\n",
      "0.0\n",
      "(1, 1.5416666666666667)\n",
      "0.0\n",
      "(4, 10.766666666666666)\n",
      "1.0\n",
      "0.0\n",
      "(1, 2.4375)\n",
      "1.0\n",
      "(0, 0.05500000000000001)\n",
      "0.0\n",
      "(0, 0.09)\n",
      "1.0\n",
      "0.0\n",
      "(0, 0.05000000000000001)\n",
      "1.0\n",
      "(3, 0.47388888888888886)\n",
      "(2, 3.2016666666666667)\n",
      "(0, 0.1)\n",
      "0.0\n",
      "1.0\n",
      "1.0\n",
      "1.0\n",
      "(4, 10.594270833333335)\n",
      "(1, 1.982075471698113)\n",
      "(1, 1.5716666666666663)\n",
      "0.0\n",
      "(0, 0.2426315789473684)\n",
      "(4, 9.54375)\n",
      "1.0\n",
      "(0, 0.21)\n",
      "1.0\n",
      "0.0\n",
      "(2, 3.183636363636364)\n",
      "0.0\n",
      "(0, 0.26333333333333336)\n",
      "1.0\n",
      "0.0\n",
      "1.0\n",
      "(2, 3.1876744186046517)\n",
      "0.0\n",
      "(4, 11.7)\n",
      "0.0\n",
      "(1, 2.6949999999999994)\n",
      "(4, 12.333333333333334)\n",
      "(4, 11.799999999999999)\n",
      "1.0\n",
      "0.0\n",
      "0.0\n",
      "0.0\n",
      "(1, 1.833431952662722)\n",
      "(4, 10.777727272727274)\n",
      "0.0\n",
      "(3, 0.41056603773584915)\n",
      "0.0\n",
      "(0, 0.3982142857142857)\n",
      "(4, 11.73235294117647)\n",
      "(3, 0.45099999999999996)\n",
      "0.0\n",
      "(0, 0.3075)\n",
      "(0, 0.295)\n",
      "0.0\n",
      "1.0\n",
      "0.0\n",
      "(1, 1.1999999999999997)\n",
      "(1, 0.975)\n",
      "1.0\n",
      "0.0\n",
      "0.0\n",
      "(4, 11.381818181818183)\n",
      "0.0\n",
      "0.0\n",
      "(3, 0.42169491525423725)\n",
      "0.0\n",
      "(4, 11.02878787878788)\n",
      "(4, 9.576923076923077)\n",
      "1.0\n",
      "(0, 0.37749999999999995)\n",
      "0.0\n",
      "1.0\n",
      "(3, 0.45499999999999996)\n",
      "0.0\n",
      "(2, 3.2089999999999996)\n",
      "0.0\n",
      "0.0\n",
      "(0, 0.25014989293361883)\n",
      "(0, 0.11850622406639005)\n",
      "(1, 2.1980314960629923)\n",
      "(1, 1.784782608695652)\n",
      "(1, 1.5950000000000002)\n",
      "(2, 3.2911111111111113)\n",
      "0.0\n",
      "(1, 1.44)\n",
      "(0, 0.05)\n",
      "1.0\n",
      "0.0\n",
      "1.0\n",
      "1.0\n",
      "1.0\n",
      "1.0\n",
      "(4, 10.216228070175438)\n",
      "(3, 0.5563013698630138)\n",
      "(3, 0.5277142857142858)\n",
      "(3, 0.5092857142857142)\n",
      "(0, 0.20500000000000002)\n",
      "(1, 2.55)\n",
      "0.0\n",
      "1.0\n",
      "0.0\n",
      "(0, 0.207)\n",
      "(0, 0.14500000000000002)\n",
      "0.0\n",
      "1.0\n",
      "(0, 0.22249999999999998)\n",
      "1.0\n",
      "0.0\n",
      "1.0\n",
      "(4, 9.571052631578947)\n",
      "1.0\n",
      "(2, 3.259375)\n",
      "1.0\n",
      "(1, 2.4)\n",
      "(0, 0.165)\n",
      "1.0\n",
      "0.0\n",
      "1.0\n",
      "(3, 0.5551219512195122)\n",
      "(2, 3.3405263157894733)\n",
      "(0, 0.194)\n",
      "0.0\n",
      "0.0\n",
      "(0, 0.2088888888888889)\n",
      "(1, 2.6100000000000003)\n",
      "(0, 0.185)\n",
      "1.0\n",
      "0.0\n",
      "1.0\n",
      "(1, 2.725)\n",
      "(1, 2.3000000000000003)\n",
      "0.0\n",
      "1.0\n",
      "0.0\n",
      "(0, 0.20363636363636364)\n",
      "1.0\n",
      "(0, 0.24166666666666667)\n",
      "(0, 0.2357142857142857)\n",
      "1.0\n",
      "(3, 0.58)\n",
      "(4, 10.866666666666665)\n",
      "0.0\n",
      "1.0\n",
      "1.0\n",
      "(4, 10.790000000000001)\n",
      "(1, 2.033333333333333)\n",
      "(1, 1.75)\n",
      "0.0\n",
      "1.0\n",
      "1.0\n",
      "0.0\n",
      "(4, 10.540265486725666)\n",
      "(4, 9.713235294117647)\n",
      "(2, 3.2445454545454546)\n",
      "(0, 0.392972972972973)\n",
      "(0, 0.31)\n",
      "(4, 9.392857142857142)\n",
      "0.0\n",
      "(4, 9.472727272727274)\n",
      "(1, 2.3)\n",
      "(0, 0.275)\n",
      "1.0\n",
      "0.0\n",
      "1.0\n",
      "(0, 0.28)\n",
      "(1, 1.5666666666666664)\n",
      "0.0\n",
      "1.0\n",
      "0.0\n",
      "(4, 9.425)\n",
      "(2, 3.1725000000000003)\n",
      "0.0\n",
      "(0, 0.3666666666666667)\n",
      "1.0\n",
      "(0, 0.385)\n",
      "1.0\n",
      "0.0\n",
      "1.0\n",
      "(1, 2.5933333333333337)\n",
      "1.0\n",
      "(1, 3.1666666666666665)\n",
      "1.0\n",
      "(4, 9.566666666666668)\n",
      "0.0\n",
      "1.0\n",
      "(1, 2.0949999999999998)\n",
      "(1, 1.8)\n",
      "(3, 0.5414285714285715)\n",
      "(0, 0.3775)\n",
      "0.0\n",
      "(0, 0.435)\n",
      "1.0\n",
      "0.0\n",
      "1.0\n",
      "(2, 3.334705882352941)\n",
      "(1, 1.9)\n",
      "(0, 0.33499999999999996)\n",
      "1.0\n",
      "0.0\n",
      "1.0\n",
      "1.0\n",
      "1.0\n",
      "(1, 2.0677966101694913)\n",
      "0.0\n",
      "(1, 2.7521739130434786)\n",
      "(1, 2.3333333333333335)\n",
      "(1, 2.1750000000000003)\n",
      "1.0\n",
      "(1, 2.25)\n",
      "0.0\n",
      "(0, 0.36)\n",
      "0.0\n",
      "1.0\n",
      "(2, 3.1757142857142857)\n",
      "1.0\n",
      "(0, 0.335)\n",
      "1.0\n",
      "0.0\n",
      "(1, 3.5374999999999996)\n",
      "(1, 3.06)\n",
      "1.0\n",
      "(0, 0.375)\n",
      "0.0\n",
      "1.0\n",
      "0.0\n",
      "(0, 0.40388888888888885)\n",
      "(2, 3.226393442622951)\n",
      "(3, 0.5506896551724138)\n",
      "0.0\n",
      "(2, 3.102)\n",
      "0.0\n",
      "(0, 0.31666666666666665)\n",
      "(0, 0.2725)\n",
      "(0, 0.265)\n",
      "0.0\n",
      "1.0\n",
      "0.0\n",
      "(1, 1.7600000000000002)\n",
      "(1, 1.5750000000000002)\n",
      "0.0\n",
      "(1, 1.6666666666666667)\n",
      "0.0\n",
      "1.0\n",
      "1.0\n",
      "(3, 0.5478125)\n",
      "0.0\n",
      "(2, 3.325)\n",
      "(1, 2.177777777777778)\n",
      "0.0\n",
      "(2, 3.2849999999999997)\n",
      "0.0\n",
      "1.0\n",
      "(0, 0.3057142857142857)\n",
      "(1, 1.7666666666666666)\n",
      "0.0\n",
      "1.0\n",
      "1.0\n",
      "(3, 0.5551724137931033)\n",
      "(1, 2.0352941176470587)\n",
      "(1, 1.35)\n",
      "0.0\n",
      "(0, 0.59)\n",
      "1.0\n",
      "0.0\n",
      "1.0\n",
      "(2, 3.2566666666666664)\n",
      "(1, 3.25)\n",
      "(4, 12.15)\n",
      "1.0\n",
      "0.0\n",
      "(1, 3.95)\n",
      "(0, 0.47)\n",
      "0.0\n",
      "1.0\n",
      "1.0\n",
      "1.0\n",
      "(1, 2.2555178268251272)\n",
      "(1, 1.8533430232558141)\n",
      "(1, 1.6006578947368422)\n",
      "(2, 3.275584415584415)\n",
      "(1, 1.3952380952380952)\n",
      "(3, 0.7358333333333333)\n",
      "0.0\n",
      "(2, 3.1224999999999996)\n",
      "0.0\n",
      "1.0\n",
      "(4, 10.391111111111112)\n",
      "(3, 0.708)\n",
      "(3, 0.6444444444444445)\n",
      "(2, 3.136)\n",
      "0.0\n",
      "(0, 0.29333333333333333)\n",
      "(0, 0.2)\n",
      "1.0\n",
      "0.0\n",
      "1.0\n",
      "1.0\n",
      "1.0\n",
      "(4, 11.086666666666668)\n",
      "(0, 0.41125)\n",
      "(2, 3.165)\n",
      "0.0\n",
      "1.0\n",
      "1.0\n",
      "(3, 0.7785714285714285)\n",
      "0.0\n",
      "0.0\n",
      "(0, 0.24971428571428572)\n",
      "(0, 0.09125)\n",
      "1.0\n",
      "1.0\n",
      "0.0\n",
      "(4, 10.655777777777777)\n",
      "(1, 1.7659090909090909)\n",
      "(0, 0.36533333333333334)\n",
      "(2, 3.4077777777777776)\n",
      "(0, 0.26)\n",
      "(0, 0.22999999999999998)\n",
      "0.0\n",
      "1.0\n",
      "0.0\n",
      "(2, 3.483333333333333)\n",
      "1.0\n",
      "0.0\n",
      "1.0\n",
      "(0, 0.2948275862068966)\n",
      "1.0\n",
      "(0, 0.46285714285714297)\n",
      "1.0\n",
      "1.0\n",
      "(0, 0.30258064516129035)\n",
      "(0, 0.083)\n",
      "1.0\n",
      "(1, 1.7750000000000001)\n",
      "0.0\n",
      "1.0\n",
      "(0, 0.40714285714285725)\n",
      "(0, 0.35916666666666663)\n",
      "(2, 3.286)\n",
      "0.0\n",
      "1.0\n",
      "(2, 3.3514285714285714)\n",
      "(4, 11.533333333333326)\n",
      "1.0\n",
      "0.0\n",
      "0.0\n",
      "(1, 1.788888888888889)\n",
      "0.0\n",
      "1.0\n",
      "(1, 2.0533854166666665)\n",
      "(3, 0.7825773195876289)\n",
      "1.0\n",
      "(1, 1.9645161290322577)\n",
      "(0, 0.2625)\n",
      "(0, 0.09)\n",
      "1.0\n",
      "(0, 0.15)\n",
      "1.0\n",
      "0.0\n",
      "1.0\n",
      "1.0\n",
      "(4, 10.748070175438599)\n",
      "(2, 3.293111111111111)\n",
      "(0, 0.42947368421052634)\n",
      "(0, 0.2714285714285714)\n",
      "1.0\n",
      "1.0\n",
      "1.0\n",
      "1.0\n",
      "1.0\n",
      "(1, 2.8202040816326535)\n",
      "(3, 0.7364117647058823)\n",
      "(3, 0.6563366336633663)\n",
      "1.0\n",
      "(4, 10.806666666666667)\n",
      "1.0\n",
      "(2, 3.3045)\n",
      "(2, 3.14125)\n",
      "1.0\n",
      "1.0\n",
      "1.0\n",
      "(0, 0.38318840579710134)\n",
      "(4, 10.903333333333332)\n",
      "1.0\n",
      "(0, 0.2642857142857143)\n",
      "(1, 2.475)\n",
      "1.0\n",
      "(0, 0.11499999999999999)\n",
      "1.0\n",
      "0.0\n",
      "1.0\n",
      "(2, 3.2702564102564105)\n",
      "1.0\n",
      "(2, 3.3729999999999998)\n",
      "1.0\n",
      "(2, 3.448571428571429)\n",
      "1.0\n",
      "(0, 0.45999999999999996)\n",
      "1.0\n",
      "0.0\n",
      "(0, 0.38613333333333333)\n",
      "(0, 0.20138888888888887)\n",
      "1.0\n",
      "(1, 3.627272727272727)\n",
      "1.0\n",
      "(2, 3.2533333333333334)\n",
      "0.0\n",
      "(3, 0.7716666666666666)\n",
      "(2, 3.3839999999999995)\n",
      "0.0\n",
      "1.0\n",
      "1.0\n",
      "(1, 3.4935897435897436)\n",
      "1.0\n",
      "(2, 3.1877777777777774)\n",
      "(0, 0.5914285714285715)\n",
      "(3, 0.7266666666666666)\n",
      "0.0\n",
      "1.0\n",
      "1.0\n",
      "1.0\n",
      "(3, 0.5037996820349762)\n",
      "(2, 3.164281767955801)\n",
      "0.0\n",
      "(2, 3.2733918128654973)\n",
      "(4, 10.10352564102564)\n",
      "0.0\n",
      "(4, 11.158536585365853)\n",
      "0.0\n",
      "(0, 0.34411764705882353)\n",
      "0.0\n",
      "(0, 0.43000000000000005)\n",
      "0.0\n",
      "0.0\n",
      "(3, 0.44164179104477613)\n",
      "0.0\n",
      "(0, 0.2819444444444444)\n",
      "(1, 9.002777777777778)\n",
      "(3, 0.48600000000000004)\n",
      "0.0\n",
      "1.0\n",
      "0.0\n",
      "(0, 0.3855555555555556)\n",
      "0.0\n",
      "(1, 8.875)\n",
      "0.0\n",
      "1.0\n",
      "(1, 9.61123595505618)\n",
      "(3, 0.6204487179487179)\n",
      "(0, 0.3405714285714285)\n",
      "(0, 0.26521739130434785)\n",
      "(0, 0.19814814814814816)\n",
      "(2, 3.3066666666666666)\n",
      "(0, 0.152)\n",
      "0.0\n",
      "(1, 6.3999999999999995)\n",
      "1.0\n",
      "0.0\n",
      "(0, 0.105)\n",
      "1.0\n",
      "(0, 0.16999999999999998)\n",
      "1.0\n",
      "0.0\n",
      "(1, 7.305555555555555)\n",
      "0.0\n",
      "(0, 0.2288888888888889)\n",
      "(0, 0.20666666666666667)\n",
      "1.0\n",
      "0.0\n",
      "(4, 9.833333333333334)\n",
      "0.0\n",
      "1.0\n",
      "(1, 6.917857142857143)\n",
      "(3, 0.5609090909090909)\n",
      "(3, 0.5350000000000001)\n",
      "0.0\n",
      "(1, 5.18)\n",
      "(0, 0.3025)\n",
      "(0, 0.28500000000000003)\n",
      "0.0\n",
      "1.0\n",
      "0.0\n",
      "1.0\n",
      "0.0\n",
      "0.0\n",
      "(0, 0.48500000000000004)\n",
      "(3, 0.56)\n",
      "0.0\n",
      "(0, 0.40099999999999997)\n",
      "(1, 5.75)\n",
      "0.0\n",
      "(0, 0.39)\n",
      "0.0\n",
      "1.0\n",
      "(2, 3.17)\n",
      "0.0\n",
      "1.0\n",
      "(0, 0.58875)\n",
      "(1, 6.111111111111111)\n",
      "(0, 0.508)\n",
      "1.0\n",
      "0.0\n",
      "0.0\n",
      "(2, 3.1042857142857136)\n",
      "(1, 7.275)\n",
      "0.0\n",
      "1.0\n",
      "1.0\n",
      "(0, 0.3541176470588236)\n",
      "(3, 0.7230769230769231)\n",
      "(2, 3.2600000000000002)\n",
      "(1, 6.555555555555555)\n",
      "0.0\n",
      "0.0\n",
      "(2, 3.367)\n",
      "(2, 3.306)\n",
      "0.0\n",
      "1.0\n",
      "(0, 0.132)\n",
      "1.0\n",
      "(0, 0.245)\n",
      "0.0\n",
      "1.0\n",
      "(0, 0.2814285714285715)\n",
      "(0, 0.2425)\n",
      "1.0\n",
      "0.0\n",
      "1.0\n",
      "(1, 6.136)\n",
      "1.0\n",
      "(4, 11.540000000000001)\n",
      "(4, 10.26)\n",
      "0.0\n",
      "1.0\n",
      "1.0\n",
      "(2, 3.1327927927927925)\n",
      "0.0\n",
      "(0, 0.3748076923076924)\n",
      "(1, 12.862)\n",
      "(0, 0.26000000000000006)\n",
      "(0, 0.21999999999999997)\n",
      "(0, 0.15)\n",
      "1.0\n",
      "0.0\n",
      "0.0\n",
      "0.0\n",
      "0.0\n",
      "0.0\n"
     ]
    }
   ],
   "source": [
    "search_tree(tree)"
   ]
  },
  {
   "cell_type": "code",
   "execution_count": 254,
   "id": "05b9427e-2bf8-4da2-b81e-d1c02bec1a01",
   "metadata": {},
   "outputs": [],
   "source": [
    "test= np.array([1,2])"
   ]
  },
  {
   "cell_type": "code",
   "execution_count": 255,
   "id": "c9791eed-de92-4c1e-af35-81944d5e27f8",
   "metadata": {},
   "outputs": [
    {
     "data": {
      "text/plain": [
       "1"
      ]
     },
     "execution_count": 255,
     "metadata": {},
     "output_type": "execute_result"
    }
   ],
   "source": [
    "np.where(test == max(test))[0][0]"
   ]
  },
  {
   "cell_type": "code",
   "execution_count": 256,
   "id": "d26e251e-a91a-4891-a618-f23a3d2ef0dd",
   "metadata": {},
   "outputs": [],
   "source": [
    "target_names = np.array(target_names)\n"
   ]
  },
  {
   "cell_type": "code",
   "execution_count": 257,
   "id": "fa825b3a-a83c-4a8d-9171-a034a34bec27",
   "metadata": {},
   "outputs": [],
   "source": [
    "data = np.array((['sunny','sunny','sunny','sunny','sunny', 'rainy','rainy','rainy', 'cloudy','cloudy','cloudy'], [1,1,1,1,0,0,1,1,0,0,1]), dtype=str)"
   ]
  },
  {
   "cell_type": "code",
   "execution_count": 258,
   "id": "dbdc36dc-4491-4e2a-b476-ea33e6e24632",
   "metadata": {},
   "outputs": [
    {
     "data": {
      "text/plain": [
       "(array(['cloudy', 'rainy', 'sunny'], dtype='<U6'),\n",
       " array([3, 3, 5], dtype=int64))"
      ]
     },
     "execution_count": 258,
     "metadata": {},
     "output_type": "execute_result"
    }
   ],
   "source": [
    "np.unique(data[0], return_counts=True)"
   ]
  },
  {
   "cell_type": "code",
   "execution_count": 259,
   "id": "705a5d01-8a4f-457b-872c-e7d6be73acaf",
   "metadata": {},
   "outputs": [
    {
     "data": {
      "text/plain": [
       "array([['sunny', 'sunny', 'sunny', 'sunny', 'sunny', 'rainy', 'rainy',\n",
       "        'rainy', 'cloudy', 'cloudy', 'cloudy'],\n",
       "       ['1', '1', '1', '1', '0', '0', '1', '1', '0', '0', '1']],\n",
       "      dtype='<U6')"
      ]
     },
     "execution_count": 259,
     "metadata": {},
     "output_type": "execute_result"
    }
   ],
   "source": [
    "data\n",
    "#data[data[0]!='sunny']"
   ]
  },
  {
   "cell_type": "code",
   "execution_count": 260,
   "id": "6fcdf727-76be-40df-9dab-c8b735b58b00",
   "metadata": {},
   "outputs": [
    {
     "data": {
      "text/html": [
       "<div>\n",
       "<style scoped>\n",
       "    .dataframe tbody tr th:only-of-type {\n",
       "        vertical-align: middle;\n",
       "    }\n",
       "\n",
       "    .dataframe tbody tr th {\n",
       "        vertical-align: top;\n",
       "    }\n",
       "\n",
       "    .dataframe thead th {\n",
       "        text-align: right;\n",
       "    }\n",
       "</style>\n",
       "<table border=\"1\" class=\"dataframe\">\n",
       "  <thead>\n",
       "    <tr style=\"text-align: right;\">\n",
       "      <th></th>\n",
       "      <th>mpg</th>\n",
       "      <th>cylinders</th>\n",
       "      <th>cubicinches</th>\n",
       "      <th>hp</th>\n",
       "      <th>weightlbs</th>\n",
       "      <th>time-to-60</th>\n",
       "      <th>year</th>\n",
       "      <th>brand</th>\n",
       "    </tr>\n",
       "  </thead>\n",
       "  <tbody>\n",
       "    <tr>\n",
       "      <th>0</th>\n",
       "      <td>14.0</td>\n",
       "      <td>8</td>\n",
       "      <td>350</td>\n",
       "      <td>165</td>\n",
       "      <td>4209</td>\n",
       "      <td>12</td>\n",
       "      <td>1972</td>\n",
       "      <td>US.</td>\n",
       "    </tr>\n",
       "    <tr>\n",
       "      <th>1</th>\n",
       "      <td>31.9</td>\n",
       "      <td>4</td>\n",
       "      <td>89</td>\n",
       "      <td>71</td>\n",
       "      <td>1925</td>\n",
       "      <td>14</td>\n",
       "      <td>1980</td>\n",
       "      <td>Europe.</td>\n",
       "    </tr>\n",
       "    <tr>\n",
       "      <th>2</th>\n",
       "      <td>17.0</td>\n",
       "      <td>8</td>\n",
       "      <td>302</td>\n",
       "      <td>140</td>\n",
       "      <td>3449</td>\n",
       "      <td>11</td>\n",
       "      <td>1971</td>\n",
       "      <td>US.</td>\n",
       "    </tr>\n",
       "    <tr>\n",
       "      <th>3</th>\n",
       "      <td>15.0</td>\n",
       "      <td>8</td>\n",
       "      <td>400</td>\n",
       "      <td>150</td>\n",
       "      <td>3761</td>\n",
       "      <td>10</td>\n",
       "      <td>1971</td>\n",
       "      <td>US.</td>\n",
       "    </tr>\n",
       "    <tr>\n",
       "      <th>4</th>\n",
       "      <td>30.5</td>\n",
       "      <td>4</td>\n",
       "      <td>98</td>\n",
       "      <td>63</td>\n",
       "      <td>2051</td>\n",
       "      <td>17</td>\n",
       "      <td>1978</td>\n",
       "      <td>US.</td>\n",
       "    </tr>\n",
       "    <tr>\n",
       "      <th>...</th>\n",
       "      <td>...</td>\n",
       "      <td>...</td>\n",
       "      <td>...</td>\n",
       "      <td>...</td>\n",
       "      <td>...</td>\n",
       "      <td>...</td>\n",
       "      <td>...</td>\n",
       "      <td>...</td>\n",
       "    </tr>\n",
       "    <tr>\n",
       "      <th>256</th>\n",
       "      <td>17.0</td>\n",
       "      <td>8</td>\n",
       "      <td>305</td>\n",
       "      <td>130</td>\n",
       "      <td>3840</td>\n",
       "      <td>15</td>\n",
       "      <td>1980</td>\n",
       "      <td>US.</td>\n",
       "    </tr>\n",
       "    <tr>\n",
       "      <th>257</th>\n",
       "      <td>36.1</td>\n",
       "      <td>4</td>\n",
       "      <td>91</td>\n",
       "      <td>60</td>\n",
       "      <td>1800</td>\n",
       "      <td>16</td>\n",
       "      <td>1979</td>\n",
       "      <td>Japan.</td>\n",
       "    </tr>\n",
       "    <tr>\n",
       "      <th>258</th>\n",
       "      <td>22.0</td>\n",
       "      <td>6</td>\n",
       "      <td>232</td>\n",
       "      <td>112</td>\n",
       "      <td>2835</td>\n",
       "      <td>15</td>\n",
       "      <td>1983</td>\n",
       "      <td>US.</td>\n",
       "    </tr>\n",
       "    <tr>\n",
       "      <th>259</th>\n",
       "      <td>18.0</td>\n",
       "      <td>6</td>\n",
       "      <td>232</td>\n",
       "      <td>100</td>\n",
       "      <td>3288</td>\n",
       "      <td>16</td>\n",
       "      <td>1972</td>\n",
       "      <td>US.</td>\n",
       "    </tr>\n",
       "    <tr>\n",
       "      <th>260</th>\n",
       "      <td>22.0</td>\n",
       "      <td>6</td>\n",
       "      <td>250</td>\n",
       "      <td>105</td>\n",
       "      <td>3353</td>\n",
       "      <td>15</td>\n",
       "      <td>1977</td>\n",
       "      <td>US.</td>\n",
       "    </tr>\n",
       "  </tbody>\n",
       "</table>\n",
       "<p>261 rows × 8 columns</p>\n",
       "</div>"
      ],
      "text/plain": [
       "      mpg   cylinders  cubicinches   hp  weightlbs   time-to-60   year  \\\n",
       "0    14.0           8          350  165       4209           12   1972   \n",
       "1    31.9           4           89   71       1925           14   1980   \n",
       "2    17.0           8          302  140       3449           11   1971   \n",
       "3    15.0           8          400  150       3761           10   1971   \n",
       "4    30.5           4           98   63       2051           17   1978   \n",
       "..    ...         ...          ...  ...        ...          ...    ...   \n",
       "256  17.0           8          305  130       3840           15   1980   \n",
       "257  36.1           4           91   60       1800           16   1979   \n",
       "258  22.0           6          232  112       2835           15   1983   \n",
       "259  18.0           6          232  100       3288           16   1972   \n",
       "260  22.0           6          250  105       3353           15   1977   \n",
       "\n",
       "        brand  \n",
       "0         US.  \n",
       "1     Europe.  \n",
       "2         US.  \n",
       "3         US.  \n",
       "4         US.  \n",
       "..        ...  \n",
       "256       US.  \n",
       "257    Japan.  \n",
       "258       US.  \n",
       "259       US.  \n",
       "260       US.  \n",
       "\n",
       "[261 rows x 8 columns]"
      ]
     },
     "execution_count": 260,
     "metadata": {},
     "output_type": "execute_result"
    }
   ],
   "source": [
    "df = pd.read_csv('cars.csv')\n",
    "df"
   ]
  },
  {
   "cell_type": "code",
   "execution_count": 261,
   "id": "35972c7e-9fa5-4ebb-a0a7-e8ae4b3b49f0",
   "metadata": {},
   "outputs": [
    {
     "data": {
      "text/plain": [
       "array([[14.0, 8, '350', ..., 12, 1972, ' US.'],\n",
       "       [31.9, 4, '89', ..., 14, 1980, ' Europe.'],\n",
       "       [17.0, 8, '302', ..., 11, 1971, ' US.'],\n",
       "       ...,\n",
       "       [22.0, 6, '232', ..., 15, 1983, ' US.'],\n",
       "       [18.0, 6, '232', ..., 16, 1972, ' US.'],\n",
       "       [22.0, 6, '250', ..., 15, 1977, ' US.']], dtype=object)"
      ]
     },
     "execution_count": 261,
     "metadata": {},
     "output_type": "execute_result"
    }
   ],
   "source": [
    "data = df.to_numpy()\n",
    "data"
   ]
  },
  {
   "cell_type": "code",
   "execution_count": 262,
   "id": "ca574c68-ac59-4459-bfd4-750a8ce81218",
   "metadata": {},
   "outputs": [],
   "source": [
    "labels = data[:, -1]\n",
    "data = data[:, :-1] "
   ]
  },
  {
   "cell_type": "code",
   "execution_count": 271,
   "id": "bd02e3d4-ed07-4127-b1a7-c26e4e4a01b7",
   "metadata": {},
   "outputs": [
    {
     "data": {
      "text/plain": [
       "array([[14.0, 8, 350, ..., 4209, 12, 1972],\n",
       "       [31.9, 4, 89, ..., 1925, 14, 1980],\n",
       "       [17.0, 8, 302, ..., 3449, 11, 1971],\n",
       "       ...,\n",
       "       [22.0, 6, 232, ..., 2835, 15, 1983],\n",
       "       [18.0, 6, 232, ..., 3288, 16, 1972],\n",
       "       [22.0, 6, 250, ..., 3353, 15, 1977]], dtype=object)"
      ]
     },
     "execution_count": 271,
     "metadata": {},
     "output_type": "execute_result"
    }
   ],
   "source": [
    "data"
   ]
  },
  {
   "cell_type": "code",
   "execution_count": 267,
   "id": "2e4df006-c6a7-43db-8000-9c44c9e9b533",
   "metadata": {},
   "outputs": [],
   "source": [
    "data[data[:, 2] == ' '] = 0 "
   ]
  },
  {
   "cell_type": "code",
   "execution_count": 268,
   "id": "9e8e8026-0046-45e4-9bf0-5dd52941968b",
   "metadata": {},
   "outputs": [],
   "source": [
    "for x in data[:,2]:\n",
    "    x = int(x)"
   ]
  },
  {
   "cell_type": "code",
   "execution_count": 269,
   "id": "c37b40dc-94dd-4587-9a6a-e893df1c32fa",
   "metadata": {},
   "outputs": [
    {
     "name": "stderr",
     "output_type": "stream",
     "text": [
      "C:\\Users\\Einar\\AppData\\Local\\Temp\\ipykernel_12376\\1348596518.py:1: DeprecationWarning: `np.int` is a deprecated alias for the builtin `int`. To silence this warning, use `int` by itself. Doing this will not modify any behavior and is safe. When replacing `np.int`, you may wish to use e.g. `np.int64` or `np.int32` to specify the precision. If you wish to review your current use, check the release note link for additional information.\n",
      "Deprecated in NumPy 1.20; for more details and guidance: https://numpy.org/devdocs/release/1.20.0-notes.html#deprecations\n",
      "  data[:, 2] = data[:, 2].astype(np.int)\n"
     ]
    }
   ],
   "source": [
    "data[:, 2] = data[:, 2].astype(np.int)"
   ]
  },
  {
   "cell_type": "code",
   "execution_count": 272,
   "id": "15be11a2-74f4-45ed-bc4e-0d80fd8c3624",
   "metadata": {},
   "outputs": [
    {
     "data": {
      "text/plain": [
       "(array([' Europe.', ' Japan.', ' US.'], dtype=object),\n",
       " array([ 48,  51, 162], dtype=int64))"
      ]
     },
     "execution_count": 272,
     "metadata": {},
     "output_type": "execute_result"
    }
   ],
   "source": [
    "np.unique(labels, return_counts=True)"
   ]
  },
  {
   "cell_type": "code",
   "execution_count": 317,
   "id": "a9bacae7-2bac-45f1-bd62-8e1855389526",
   "metadata": {},
   "outputs": [],
   "source": [
    "tree_3 = Tree()\n",
    "tree_3 = learn(data, labels, impurity_measure='entropy', pruning='True')"
   ]
  },
  {
   "cell_type": "code",
   "execution_count": 318,
   "id": "2aa28f47-3f35-4df8-96a3-ea178ba76415",
   "metadata": {},
   "outputs": [
    {
     "data": {
      "text/plain": [
       "1.4013498193719667"
      ]
     },
     "execution_count": 318,
     "metadata": {},
     "output_type": "execute_result"
    }
   ],
   "source": [
    "impurity(labels[:70])"
   ]
  },
  {
   "cell_type": "code",
   "execution_count": 319,
   "id": "e7e68722-5f29-448b-8bbb-54d155f2ca1a",
   "metadata": {},
   "outputs": [
    {
     "data": {
      "text/plain": [
       "0.9425287356321839"
      ]
     },
     "execution_count": 319,
     "metadata": {},
     "output_type": "execute_result"
    }
   ],
   "source": [
    "accuracy(data, labels, tree_3)"
   ]
  },
  {
   "cell_type": "code",
   "execution_count": 320,
   "id": "07985698-4b1f-4777-becd-37b74947cc22",
   "metadata": {},
   "outputs": [
    {
     "data": {
      "text/plain": [
       "' US.'"
      ]
     },
     "execution_count": 320,
     "metadata": {},
     "output_type": "execute_result"
    }
   ],
   "source": [
    "predict(data[0], tree_3)"
   ]
  },
  {
   "cell_type": "code",
   "execution_count": 321,
   "id": "1ed55b4a-d308-459b-847d-fb6a42eb0880",
   "metadata": {},
   "outputs": [
    {
     "data": {
      "text/plain": [
       "' US.'"
      ]
     },
     "execution_count": 321,
     "metadata": {},
     "output_type": "execute_result"
    }
   ],
   "source": [
    "labels[0]"
   ]
  },
  {
   "cell_type": "code",
   "execution_count": null,
   "id": "c76db938-4c06-4f99-9e29-ac95ec6cfd29",
   "metadata": {},
   "outputs": [],
   "source": []
  }
 ],
 "metadata": {
  "kernelspec": {
   "display_name": "Python 3 (ipykernel)",
   "language": "python",
   "name": "python3"
  },
  "language_info": {
   "codemirror_mode": {
    "name": "ipython",
    "version": 3
   },
   "file_extension": ".py",
   "mimetype": "text/x-python",
   "name": "python",
   "nbconvert_exporter": "python",
   "pygments_lexer": "ipython3",
   "version": "3.10.12"
  }
 },
 "nbformat": 4,
 "nbformat_minor": 5
}
