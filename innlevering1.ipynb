{
 "cells": [
  {
   "cell_type": "code",
   "execution_count": 21,
   "id": "ce77f734-cae6-4ec2-aace-df325a9cd059",
   "metadata": {},
   "outputs": [],
   "source": [
    "import numpy as np\n",
    "import sklearn\n",
    "from math import log2\n"
   ]
  },
  {
   "cell_type": "markdown",
   "id": "45b3c957-8259-42d2-9d48-b2979142b52a",
   "metadata": {},
   "source": [
    "Creating the main function."
   ]
  },
  {
   "cell_type": "code",
   "execution_count": 8,
   "id": "0a7db722-3352-4c46-880f-11b53209be56",
   "metadata": {},
   "outputs": [],
   "source": [
    "def one_label(data_points):\n",
    "    labels = [data_points[0]]\n",
    "    for d_point in data_points:\n",
    "        if d_point not in labels:\n",
    "            return True\n",
    "    return False\n",
    "        "
   ]
  },
  {
   "cell_type": "code",
   "execution_count": 60,
   "id": "10f9e0a6-5066-4032-a0f1-88ee5278d822",
   "metadata": {},
   "outputs": [],
   "source": [
    "def calc_entropy(node):\n",
    "    #Counting the amount of different labels, so can find probability of each label\n",
    "    total_count = 0\n",
    "    data_points = {}\n",
    "    for point in node:\n",
    "        if point not in data_points:\n",
    "            data_points[point] = 1\n",
    "        else:\n",
    "            data_points[point] +=1\n",
    "        total_count +=1\n",
    "\n",
    "    probs = []\n",
    "    for point, counts in data_points.items():\n",
    "        probs.append([point, counts/total_count])\n",
    "    \n",
    "    probs = np.array(probs)\n",
    "    \n",
    "    entropy = 0\n",
    "    gini = 0\n",
    "    misclass_rate = 0\n",
    "    for prob in probs:\n",
    "        entropy += -((prob[1]*log2(prob[1])))\n",
    "        gini += prob[1]*(1-prob[1])\n",
    "    misclass_rate = 1 - max(probs[:,1])\n",
    "\n",
    "\n",
    "    \n",
    "    return entropy, gini, misclass_rate"
   ]
  },
  {
   "cell_type": "code",
   "execution_count": 61,
   "id": "6c741139-1b52-42a2-9075-1cb99fac778e",
   "metadata": {},
   "outputs": [
    {
     "name": "stdout",
     "output_type": "stream",
     "text": [
      "[0.9 0.1]\n"
     ]
    },
    {
     "data": {
      "text/plain": [
       "(0.4689955935892812, 0.18, 0.09999999999999998)"
      ]
     },
     "execution_count": 61,
     "metadata": {},
     "output_type": "execute_result"
    }
   ],
   "source": [
    "calc_entropy([1,1,1,1,2,1,1,1,1,1])"
   ]
  },
  {
   "cell_type": "code",
   "execution_count": 43,
   "id": "0055921f-9f9a-4e37-99ff-7e9bc1d1ac3d",
   "metadata": {},
   "outputs": [],
   "source": [
    "def calc_con_entropy(node):\n",
    "    pass"
   ]
  },
  {
   "cell_type": "code",
   "execution_count": 42,
   "id": "9d61ec9f-4456-4065-a321-f96345ec7dde",
   "metadata": {},
   "outputs": [],
   "source": [
    "def calc_ig(node):\n",
    "    return calc_entropy(node) - calc_con_entropy(node)"
   ]
  },
  {
   "cell_type": "code",
   "execution_count": 3,
   "id": "df977e73-f67a-4542-a51c-256e7719cd31",
   "metadata": {},
   "outputs": [],
   "source": [
    "def dec_tree(root):\n",
    "    if one_labels:\n",
    "        return root\n",
    "    "
   ]
  }
 ],
 "metadata": {
  "kernelspec": {
   "display_name": "Python 3 (ipykernel)",
   "language": "python",
   "name": "python3"
  },
  "language_info": {
   "codemirror_mode": {
    "name": "ipython",
    "version": 3
   },
   "file_extension": ".py",
   "mimetype": "text/x-python",
   "name": "python",
   "nbconvert_exporter": "python",
   "pygments_lexer": "ipython3",
   "version": "3.10.12"
  }
 },
 "nbformat": 4,
 "nbformat_minor": 5
}
